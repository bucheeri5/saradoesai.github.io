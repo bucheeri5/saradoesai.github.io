{
 "cells": [
  {
   "cell_type": "markdown",
   "id": "e6e9845f-46c1-4f14-bb8f-d44edfb3992c",
   "metadata": {},
   "source": [
    "https://github.com/bucheeri5/saradoesai.github.io"
   ]
  },
  {
   "cell_type": "markdown",
   "id": "76839d2b-83cf-4e5a-929d-3283d814a78f",
   "metadata": {},
   "source": [
    "# Week 2: Exploring Data in Multiple Ways"
   ]
  },
  {
   "cell_type": "code",
   "execution_count": null,
   "id": "f5b73c46-51f1-41dd-9933-8347ea4eb140",
   "metadata": {},
   "outputs": [],
   "source": [
    "from IPython.display import Image\n",
    "#this module IPython allows us to import an image, which will be using to di"
   ]
  },
  {
   "cell_type": "code",
   "execution_count": null,
   "id": "2b3ef348-76a0-4578-b467-46e86a89b7d9",
   "metadata": {
    "scrolled": true
   },
   "outputs": [],
   "source": [
    "Image (\"picture1.jpg\")"
   ]
  },
  {
   "cell_type": "markdown",
   "id": "d12a6f98-cbcc-4b0f-a70a-6e456d159282",
   "metadata": {},
   "source": [
    "What a cute hedgehog!"
   ]
  },
  {
   "cell_type": "code",
   "execution_count": null,
   "id": "93ad222d-d554-4718-b3ff-1774d6256dd2",
   "metadata": {},
   "outputs": [],
   "source": [
    "from IPython.display import Audio"
   ]
  },
  {
   "cell_type": "code",
   "execution_count": null,
   "id": "aac7c12a-522c-4cb3-9225-c85f2d48c13d",
   "metadata": {
    "scrolled": true
   },
   "outputs": [],
   "source": [
    "Audio (\"audio1.mid\")"
   ]
  },
  {
   "cell_type": "markdown",
   "id": "f869b0f4-7b35-456c-abbf-6fe2c88b3918",
   "metadata": {},
   "source": [
    "whoops! the audio does not work! why is that? well, if we take a closer look at the audio file format, it is .mid which stands for Musical Instrument Digital Interface. This file type does not carry the audio itself and it is not supported by our browser. Let's try another file type below!"
   ]
  },
  {
   "cell_type": "code",
   "execution_count": null,
   "id": "0adcfaf6-d6b2-466c-a79d-1ba6abba1f2d",
   "metadata": {},
   "outputs": [],
   "source": [
    "Audio (\"audio2.ogg\")\n",
    "#This file is licensed under the Creative Commons Attribution-Share Alike 3.0 Unported license. \n",
    "#You are free: to share – to copy, distribute and transmit the workto remix – to adapt the work\n",
    "#Under the following conditions: \n",
    "#atribution – You must give appropriate credit, provide a link to the license, and indicate if changes were made. \n",
    "#ou may do so in any reasonable manner, but not in any way that suggests the licensor endorses you or your use.hare alike – If you remix, transform, or build upon the material, you must distribute your contributions under the same or compatible license as the original.\n",
    "#The original ogg file was found at the url: https://en.wikipedia.org/wiki/File:GoldbergVariations_MehmetOkonsar-1of3_Var1to10.ogg\n"
   ]
  },
  {
   "cell_type": "markdown",
   "id": "5efe5900-82ff-432a-ba3a-17074676ce11",
   "metadata": {},
   "source": [
    "Hurray! That works."
   ]
  },
  {
   "cell_type": "code",
   "execution_count": null,
   "id": "79607e8f-b2bb-486e-a892-9060b9d68745",
   "metadata": {},
   "outputs": [],
   "source": [
    "from matplotlib import pyplot # Import the pyplot module from matplotlib\n",
    "test_picture = pyplot.imread(\"picture1.jpg\") # Read the image \"picture1.jpg\" (the previous hedgehog image) and store it as a NumPy array\n",
    "#NumPy is used to handle image data as arrays efficiently. \n",
    "#You can think of arrays like lists, where we can store many variables in a specific sequence at once. In the image, we read them as numbers in terms of pixels.\n",
    "print (\"NumPy array of the image is: \" , test_picture) # Print the NumPy array representation of the image \n",
    "pyplot.imshow(test_picture) # Display the original image using imshow\n",
    "test_picture_filtered = 2*test_picture/3 # Apply a simple filter to adjust the brightness by scaling the pixel values\n",
    "pyplot.imshow(test_picture_filtered) # Display the image we altered  using imshow"
   ]
  },
  {
   "cell_type": "markdown",
   "id": "7cd39e94-07f9-4a8c-a896-588c77aff9c6",
   "metadata": {},
   "source": [
    "mhmm, perhaps dont use this picture to prove your artistic editing skills."
   ]
  },
  {
   "cell_type": "markdown",
   "id": "47b770e6-9b76-49b5-923e-aa1d1893fa29",
   "metadata": {},
   "source": [
    "In this notebook, we got to display both audio and image files using python. We used different libraries, such as ipython and matplotlib to do that. during the process, we have altered an image by converting it into an array and then altering the brightness. All of this was done mathematically! Perhaps this show that we need to move away from seperating discplines and seeing the beauty and the potential of merging our skills, whether it is in the arts and humanities or STEM."
   ]
  }
 ],
 "metadata": {
  "kernelspec": {
   "display_name": "Python 3 (ipykernel)",
   "language": "python",
   "name": "python3"
  },
  "language_info": {
   "codemirror_mode": {
    "name": "ipython",
    "version": 3
   },
   "file_extension": ".py",
   "mimetype": "text/x-python",
   "name": "python",
   "nbconvert_exporter": "python",
   "pygments_lexer": "ipython3",
   "version": "3.9.18"
  }
 },
 "nbformat": 4,
 "nbformat_minor": 5
}
