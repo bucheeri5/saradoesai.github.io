{
 "cells": [
  {
   "cell_type": "markdown",
   "id": "19e5e30e-9142-4c5b-822e-8494c2cb97b3",
   "metadata": {},
   "source": [
    "https://github.com/bucheeri5/saradoesai.github.io"
   ]
  },
  {
   "cell_type": "markdown",
   "id": "195f73ef",
   "metadata": {},
   "source": [
    "# Week 1: Getting started with Anaconda, Jupyter Notebook, and Python\n",
    "Exercises to familiarize myself with Jupyter Notebook and its relationship with Python"
   ]
  },
  {
   "cell_type": "markdown",
   "id": "002f61f9",
   "metadata": {},
   "source": [
    "a) Why you chose to join this course – for, motivation, vision, aspiration?\n",
    "\n",
    "I am interested in humanities computing and using technology to enhance information processes in the arts. \n",
    "\n",
    "b) Prior experience, if any, you have with AI and/or Python\n",
    "\n",
    "I have prior experience with Python and some APIs\n",
    "\n",
    "c) What you expect to learn from the course \n",
    "\n",
    "To be proficient in communicating code and how AI works to a wider audience where digital literacy is becoming increasingly important,\n",
    "\n",
    "To understand the principles of artificial intellegence,\n",
    "\n",
    "To be able to apply my skills in making basic AI related projects. "
   ]
  },
  {
   "cell_type": "code",
   "execution_count": 1,
   "id": "08d67e42",
   "metadata": {
    "scrolled": true
   },
   "outputs": [
    {
     "name": "stdout",
     "output_type": "stream",
     "text": [
      "Hello, World!\n",
      "Hello, its me!\n",
      "Hello, its me!Hello, its me!\n",
      "Hello, its me!Hello, its me!Hello, its me!\n",
      "H\n",
      ",\n"
     ]
    }
   ],
   "source": [
    "print (\"Hello, World!\")\n",
    "message = (\"Hello, its me!\")\n",
    "print (message)\n",
    "print (message + message)\n",
    "print (message*3)\n",
    "print (message [0])\n",
    "print (message [5])"
   ]
  },
  {
   "cell_type": "code",
   "execution_count": 2,
   "id": "7a00b5e7",
   "metadata": {},
   "outputs": [],
   "source": [
    "from IPython.display import *"
   ]
  },
  {
   "cell_type": "code",
   "execution_count": 3,
   "id": "187921f6",
   "metadata": {
    "scrolled": true
   },
   "outputs": [
    {
     "data": {
      "text/html": [
       "\n",
       "        <iframe\n",
       "            width=\"400\"\n",
       "            height=\"300\"\n",
       "            src=\"https://www.youtube.com/embed/uA70ZGCC1f4&ab_channel=TED\"\n",
       "            frameborder=\"0\"\n",
       "            allowfullscreen\n",
       "            \n",
       "        ></iframe>\n",
       "        "
      ],
      "text/plain": [
       "<IPython.lib.display.YouTubeVideo at 0x1bc88c5ff10>"
      ]
     },
     "execution_count": 3,
     "metadata": {},
     "output_type": "execute_result"
    }
   ],
   "source": [
    "YouTubeVideo(\"uA70ZGCC1f4\") #TED's videos may be used for non-commercial purposes under a Creative Commons License,."
   ]
  },
  {
   "cell_type": "code",
   "execution_count": null,
   "id": "cec3acfa",
   "metadata": {},
   "outputs": [
    {
     "name": "stdout",
     "output_type": "stream",
     "text": [
      "Shall we hunt down an old website?\n"
     ]
    }
   ],
   "source": [
    "# Import the required modules to be able to execute this code\n",
    "import webbrowser\n",
    "import requests\n",
    "\n",
    "# Prompt for users to input a website\n",
    "print(\"Shall we hunt down an old website?\")\n",
    "site = input(\"Type a website URL: \")\n",
    "era = input(\"Type year, month, and date, e.g., 20150613: \")\n",
    "\n",
    "# URL for the Wayback Machine API\n",
    "#APIs are important in coding, Application Programming Interfaces are sets of rules and tools that allow different software applications to communicate with each other\n",
    "url = \"http://archive.org/wayback/available?url=%s&timestamp=%s\" % (site, era)\n",
    "\n",
    "# Send a GET request to the Wayback Machine API\n",
    "response = requests.get(url)\n",
    "\n",
    "# Parse the JSON response\n",
    "# This means converting the JSON-formatted data received from the Wayback Machine API into a usable Python data structure.\n",
    "data = response.json()\n",
    "\n",
    "# Try to extract the URL of the closest archived snapshot in the wayback machine\n",
    "try:\n",
    "    old_site = data[\"archived_snapshots\"][\"closest\"][\"url\"]\n",
    "    print(\"Found this copy: \", old_site)\n",
    "\n",
    "    # Open the archived site in the default web browser\n",
    "    webbrowser.open(old_site)\n",
    "except:\n",
    "    # If this does not work, the user will receive following statement\n",
    "    print(\"Sorry, could not find the site.\")"
   ]
  }
 ],
 "metadata": {
  "kernelspec": {
   "display_name": "Python 3 (ipykernel)",
   "language": "python",
   "name": "python3"
  },
  "language_info": {
   "codemirror_mode": {
    "name": "ipython",
    "version": 3
   },
   "file_extension": ".py",
   "mimetype": "text/x-python",
   "name": "python",
   "nbconvert_exporter": "python",
   "pygments_lexer": "ipython3",
   "version": "3.9.18"
  }
 },
 "nbformat": 4,
 "nbformat_minor": 5
}
